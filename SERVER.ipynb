{
 "cells": [
  {
   "cell_type": "code",
   "execution_count": 172,
   "metadata": {},
   "outputs": [],
   "source": [
    "def warn(*args, **kwargs): pass\n",
    "import warnings\n",
    "from random import randint\n",
    "import random\n",
    "warnings.warn = warn"
   ]
  },
  {
   "cell_type": "code",
   "execution_count": 191,
   "metadata": {},
   "outputs": [],
   "source": [
    "cat = [\n",
    "    ['економіка','гроші'],\n",
    "    ['спорт','волейбол'],\n",
    "    ['ідеологія','політика'],\n",
    "    ['кімната','дім'],\n",
    "    ['освіта','предмети','математика'],\n",
    "    ['мистецтво','творчість'],\n",
    "    ['тварини','самці'],\n",
    "    ['їжа','борщ'],\n",
    "    ['озеро','гора']]\n",
    "cat_name = ['Економіка   -- 1','Спорт       -- 2','Політика    -- 3','Дім         -- 4',\n",
    "            'Освіта      -- 5','Мистецтво   -- 6','Тваринки    -- 7','Їжа         -- 8',\n",
    "            'Природа     -- 9']\n",
    "cat_name_p = ['Економіка','Спорт','Політика','Дім',\n",
    "            'Освіта','Мистецтво','Тваринки','Їжа',\n",
    "            'Природа']"
   ]
  },
  {
   "cell_type": "code",
   "execution_count": 192,
   "metadata": {},
   "outputs": [],
   "source": [
    "import gensim\n",
    "model = gensim.models.KeyedVectors.load_word2vec_format('word_vec', binary=False)"
   ]
  },
  {
   "cell_type": "code",
   "execution_count": 197,
   "metadata": {},
   "outputs": [],
   "source": [
    "def generate(cat_n):\n",
    "    a = list(model.most_similar(positive=cat[cat_n],topn=18))\n",
    "    b =[]\n",
    "    for h in a:\n",
    "        g = h[0]\n",
    "        if (g[0].isupper()==True):continue\n",
    "        b.append(g)\n",
    "    ind = random.sample(range(0, len(b)), 4)\n",
    "    res = [b[i] for i in ind]\n",
    "    #########################################################  \n",
    "    i =0\n",
    "    while(i==0):\n",
    "        rand_cat = randint(0, 8)\n",
    "        if(rand_cat!=cat_n): i=1\n",
    "    a = list(model.most_similar(positive=cat[rand_cat],topn=18))\n",
    "    b =[]\n",
    "    for h in a:\n",
    "        g = h[0]\n",
    "        if (g[0].isupper()==True):continue\n",
    "        b.append(g)\n",
    "    rand_n = randint(0, (len(b)-1))\n",
    "    rand_pos = randint(0, (len(res)-1))\n",
    "    res.insert(rand_pos, b[rand_n]) \n",
    "    return res, rand_pos, rand_cat"
   ]
  },
  {
   "cell_type": "code",
   "execution_count": 198,
   "metadata": {},
   "outputs": [
    {
     "name": "stdout",
     "output_type": "stream",
     "text": [
      "Connected by ('127.0.0.1', 55252)\n",
      "Game started\n",
      "Користувачем обрана категорія   Природа\n",
      "Game is over\n"
     ]
    }
   ],
   "source": [
    "# Echo server program\n",
    "import socket\n",
    "import numpy as np\n",
    "import time\n",
    "HOST = ''                 # Symbolic name meaning all available interfaces\n",
    "PORT = 50008              # Arbitrary non-privileged port\n",
    "i=0\n",
    "with socket.socket(socket.AF_INET, socket.SOCK_STREAM) as s:\n",
    "    s.bind((HOST, PORT))\n",
    "    s.listen(1)\n",
    "    conn, addr = s.accept()\n",
    "    with conn:\n",
    "        print('Connected by', addr)\n",
    "        print('Game started')\n",
    "        ############################ Choosing game mode ##############################\n",
    "        iter1 = 'У грі доступні такі категорії:'+'\\n'+'\\n'.join(cat_name)+'\\n'+ \"Виберіть категорію для початку гри!\"\n",
    "        conn.sendall(str(iter1).encode(\"utf-8\"))\n",
    "        cat_number = conn.recv(1024)\n",
    "        cat_number = int(cat_number.decode(\"utf-8\")) - 1\n",
    "        if (cat_number not in set(range(0,len(cat_name)))): iter2 = '404' #checking dump user\n",
    "        else:\n",
    "            print(\"Користувачем обрана категорія   \"+cat_name_p[cat_number])\n",
    "            iter2 = 'Вами вибрана категорія \\''+ cat_name_p[cat_number]+'\\''+'\\n'+'У вас для початку є три права на помилку'\n",
    "        conn.sendall(str(iter2).encode(\"utf-8\"))\n",
    "        ### Init game and start\n",
    "        life = 3\n",
    "        points = 0\n",
    "        ############################ Step by step iterations #########################\n",
    "        while life>0:\n",
    "            itern = 'Ваш рахунок: '+str(points)+'\\n'+ 'У вас ще помилок: '+ str(life)+'\\n'\n",
    "            game = generate(cat_number)\n",
    "            itern = '\\n' + itern + ('   '.join(game[0])) + '\\n' +(\"Який номер слова з списку, найменше підходить під обрану категорію? \")\n",
    "            conn.sendall(str(itern).encode(\"utf-8\"))\n",
    "            ans = conn.recv(1024)\n",
    "            ans = int(ans.decode(\"utf-8\"))\n",
    "            if(int(ans)==game[1]+1):\n",
    "                points+=1\n",
    "                iternn = 'Вітаю, Ваша відповідь правильна!'\n",
    "            else:\n",
    "                iternn = 'На жаль цього разу Ви не вгадали'+ '\\n'+ 'Правильна відповідь : \\''+ game[0][game[1]]+'\\' що відноситься до категорії '+ cat_name_p[game[2]]\n",
    "                if (ans not in set(range(1,6))): iternn = iternn +' \\n'+'-1 життя... наступного разу вводь число від 1 до 5'\n",
    "                life = life-1\n",
    "            conn.sendall(str(iternn).encode(\"utf-8\"))\n",
    "            if not life: \n",
    "                break\n",
    "                print('Sorry. Connection lost') \n",
    "        print('Game is over')\n",
    "        dd = 'end'\n",
    "        conn.sendall(dd.encode(\"utf-8\"))\n",
    "        time.sleep(1.5)\n",
    "        finals = 'Гра закінчилася з рахунком:  '+ str(points) + '\\n'+'Дякую, Ви молодець!'\n",
    "        conn.sendall(finals.encode(\"utf-8\"))\n",
    "conn.close()\n",
    "s.close()              "
   ]
  },
  {
   "cell_type": "code",
   "execution_count": null,
   "metadata": {},
   "outputs": [],
   "source": []
  }
 ],
 "metadata": {
  "kernelspec": {
   "display_name": "Python 3",
   "language": "python",
   "name": "python3"
  },
  "language_info": {
   "codemirror_mode": {
    "name": "ipython",
    "version": 3
   },
   "file_extension": ".py",
   "mimetype": "text/x-python",
   "name": "python",
   "nbconvert_exporter": "python",
   "pygments_lexer": "ipython3",
   "version": "3.6.3"
  }
 },
 "nbformat": 4,
 "nbformat_minor": 2
}
